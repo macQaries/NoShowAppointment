{
 "cells": [
  {
   "cell_type": "markdown",
   "metadata": {},
   "source": [
    "# Project: Investigate a Dataset - [No Show Appointment]\n",
    "\n",
    "## Table of Contents\n",
    "<ul>\n",
    "<li><a href=\"#intro\">Introduction</a></li>\n",
    "<li><a href=\"#wrangling\">Data Wrangling</a></li>\n",
    "<li><a href=\"#eda\">Exploratory Data Analysis</a></li>\n",
    "<li><a href=\"#conclusions\">Conclusions</a></li>\n",
    "</ul>"
   ]
  },
  {
   "cell_type": "markdown",
   "metadata": {},
   "source": [
    "<a id='intro'></a>\n",
    "## Introduction\n",
    "\n",
    "### Dataset Description \n",
    "\n",
    "> The No-Show-Appointment Dataset collects information from over a hundred thousand medical appointments in Brazil and it focused on the question of whether or not patient show up for their appointment. \n",
    "\n",
    "> <li> 01 PatientId - Identification of a patient </li>\n",
    "> <li> 02 AppointmentID - Identification of each appointment </li>\n",
    "> <li> 03 Gender - Male or Female . Female is the greater proportion, woman takes way more care of they health in comparison to man. </li>\n",
    "> <li> 04 DataMarcacaoConsulta - The day of the actuall appointment, when they have to visit the doctor. </li>\n",
    "> <li> 05 DataAgendamento - The day someone called or registered the appointment, this is before appointment of course. </li>\n",
    "> <li> 06 Age - How old is the patient. </li>\n",
    "> <li> 07 Neighbourhood - Where the appointment takes place. </li>\n",
    "> <li> 08 Scholarship - True of False </li>\n",
    "> <li> 09 Hipertension - True or False </li>\n",
    "> <li> 10 Diabetes - True or False </li>\n",
    "> <li> 11 Alcoholism - True or False </li>\n",
    "> <li> 12 Handcap - True or False </li>\n",
    "> <li> 13 SMS_received - 1 or more messages sent to the patient. </li>\n",
    "> <li> 14 No-show - True or False. </li>\n",
    "\n",
    "\n",
    "### Question(s) for Analysis\n",
    "> Based on the available data, my analysis questions are:\n",
    "1. Are those on scholarship likely to show up on appointment date?\n",
    "2. Are those being reached out by to SMS reminder more likely to show up on appointment date?\n",
    "3. What Gender class take their appointment date more seriously?"
   ]
  },
  {
   "cell_type": "code",
   "execution_count": 1,
   "metadata": {},
   "outputs": [],
   "source": [
    "# Use this cell to set up import statements for all of the packages that you\n",
    "#   plan to use.\n",
    "import pandas as pd\n",
    "import numpy as np\n",
    "import matplotlib.pyplot as plt\n",
    "import seaborn as sns\n",
    "% matplotlib inline"
   ]
  },
  {
   "cell_type": "code",
   "execution_count": 2,
   "metadata": {
    "scrolled": false
   },
   "outputs": [
    {
     "name": "stdout",
     "output_type": "stream",
     "text": [
      "Requirement already up-to-date: pandas==0.25.0 in /opt/conda/lib/python3.6/site-packages (0.25.0)\r\n",
      "Requirement already satisfied, skipping upgrade: python-dateutil>=2.6.1 in /opt/conda/lib/python3.6/site-packages (from pandas==0.25.0) (2.6.1)\r\n",
      "Requirement already satisfied, skipping upgrade: pytz>=2017.2 in /opt/conda/lib/python3.6/site-packages (from pandas==0.25.0) (2017.3)\r\n",
      "Requirement already satisfied, skipping upgrade: numpy>=1.13.3 in /opt/conda/lib/python3.6/site-packages (from pandas==0.25.0) (1.19.5)\r\n",
      "Requirement already satisfied, skipping upgrade: six>=1.5 in /opt/conda/lib/python3.6/site-packages (from python-dateutil>=2.6.1->pandas==0.25.0) (1.11.0)\r\n"
     ]
    }
   ],
   "source": [
    "# Upgrade pandas to use dataframe.explode() function. \n",
    "!pip install --upgrade pandas==0.25.0"
   ]
  },
  {
   "cell_type": "markdown",
   "metadata": {},
   "source": [
    "<a id='wrangling'></a>\n",
    "## Data Wrangling\n",
    "\n",
    "> **Tip**: In this section of the report, you will load in the data, check for cleanliness, and then trim and clean your dataset for analysis. Make sure that you **document your data cleaning steps in mark-down cells precisely and justify your cleaning decisions.**\n",
    "\n",
    "\n",
    "### General Properties\n",
    "> **Tip**: You should _not_ perform too many operations in each cell. Create cells freely to explore your data. One option that you can take with this project is to do a lot of explorations in an initial notebook. These don't have to be organized, but make sure you use enough comments to understand the purpose of each code cell. Then, after you're done with your analysis, create a duplicate notebook where you will trim the excess and organize your steps so that you have a flowing, cohesive report."
   ]
  },
  {
   "cell_type": "markdown",
   "metadata": {},
   "source": [
    "First I accessed my data using the pandas read function"
   ]
  },
  {
   "cell_type": "code",
   "execution_count": 3,
   "metadata": {},
   "outputs": [],
   "source": [
    "# Load your data and print out a few lines. Perform operations to inspect data\n",
    "#   types and look for instances of missing or possibly errant data.\n",
    "df_app = pd.read_csv(\"https://d17h27t6h515a5.cloudfront.net/topher/2017/October/59dd2e9a_noshowappointments-kagglev2-may-2016/noshowappointments-kagglev2-may-2016.csv\")"
   ]
  },
  {
   "cell_type": "code",
   "execution_count": 4,
   "metadata": {
    "scrolled": true
   },
   "outputs": [
    {
     "data": {
      "text/html": [
       "<div>\n",
       "<style scoped>\n",
       "    .dataframe tbody tr th:only-of-type {\n",
       "        vertical-align: middle;\n",
       "    }\n",
       "\n",
       "    .dataframe tbody tr th {\n",
       "        vertical-align: top;\n",
       "    }\n",
       "\n",
       "    .dataframe thead th {\n",
       "        text-align: right;\n",
       "    }\n",
       "</style>\n",
       "<table border=\"1\" class=\"dataframe\">\n",
       "  <thead>\n",
       "    <tr style=\"text-align: right;\">\n",
       "      <th></th>\n",
       "      <th>PatientId</th>\n",
       "      <th>AppointmentID</th>\n",
       "      <th>Gender</th>\n",
       "      <th>ScheduledDay</th>\n",
       "      <th>AppointmentDay</th>\n",
       "      <th>Age</th>\n",
       "      <th>Neighbourhood</th>\n",
       "      <th>Scholarship</th>\n",
       "      <th>Hipertension</th>\n",
       "      <th>Diabetes</th>\n",
       "      <th>Alcoholism</th>\n",
       "      <th>Handcap</th>\n",
       "      <th>SMS_received</th>\n",
       "      <th>No-show</th>\n",
       "    </tr>\n",
       "  </thead>\n",
       "  <tbody>\n",
       "    <tr>\n",
       "      <th>0</th>\n",
       "      <td>2.987250e+13</td>\n",
       "      <td>5642903</td>\n",
       "      <td>F</td>\n",
       "      <td>2016-04-29T18:38:08Z</td>\n",
       "      <td>2016-04-29T00:00:00Z</td>\n",
       "      <td>62</td>\n",
       "      <td>JARDIM DA PENHA</td>\n",
       "      <td>0</td>\n",
       "      <td>1</td>\n",
       "      <td>0</td>\n",
       "      <td>0</td>\n",
       "      <td>0</td>\n",
       "      <td>0</td>\n",
       "      <td>No</td>\n",
       "    </tr>\n",
       "    <tr>\n",
       "      <th>1</th>\n",
       "      <td>5.589978e+14</td>\n",
       "      <td>5642503</td>\n",
       "      <td>M</td>\n",
       "      <td>2016-04-29T16:08:27Z</td>\n",
       "      <td>2016-04-29T00:00:00Z</td>\n",
       "      <td>56</td>\n",
       "      <td>JARDIM DA PENHA</td>\n",
       "      <td>0</td>\n",
       "      <td>0</td>\n",
       "      <td>0</td>\n",
       "      <td>0</td>\n",
       "      <td>0</td>\n",
       "      <td>0</td>\n",
       "      <td>No</td>\n",
       "    </tr>\n",
       "    <tr>\n",
       "      <th>2</th>\n",
       "      <td>4.262962e+12</td>\n",
       "      <td>5642549</td>\n",
       "      <td>F</td>\n",
       "      <td>2016-04-29T16:19:04Z</td>\n",
       "      <td>2016-04-29T00:00:00Z</td>\n",
       "      <td>62</td>\n",
       "      <td>MATA DA PRAIA</td>\n",
       "      <td>0</td>\n",
       "      <td>0</td>\n",
       "      <td>0</td>\n",
       "      <td>0</td>\n",
       "      <td>0</td>\n",
       "      <td>0</td>\n",
       "      <td>No</td>\n",
       "    </tr>\n",
       "    <tr>\n",
       "      <th>3</th>\n",
       "      <td>8.679512e+11</td>\n",
       "      <td>5642828</td>\n",
       "      <td>F</td>\n",
       "      <td>2016-04-29T17:29:31Z</td>\n",
       "      <td>2016-04-29T00:00:00Z</td>\n",
       "      <td>8</td>\n",
       "      <td>PONTAL DE CAMBURI</td>\n",
       "      <td>0</td>\n",
       "      <td>0</td>\n",
       "      <td>0</td>\n",
       "      <td>0</td>\n",
       "      <td>0</td>\n",
       "      <td>0</td>\n",
       "      <td>No</td>\n",
       "    </tr>\n",
       "    <tr>\n",
       "      <th>4</th>\n",
       "      <td>8.841186e+12</td>\n",
       "      <td>5642494</td>\n",
       "      <td>F</td>\n",
       "      <td>2016-04-29T16:07:23Z</td>\n",
       "      <td>2016-04-29T00:00:00Z</td>\n",
       "      <td>56</td>\n",
       "      <td>JARDIM DA PENHA</td>\n",
       "      <td>0</td>\n",
       "      <td>1</td>\n",
       "      <td>1</td>\n",
       "      <td>0</td>\n",
       "      <td>0</td>\n",
       "      <td>0</td>\n",
       "      <td>No</td>\n",
       "    </tr>\n",
       "  </tbody>\n",
       "</table>\n",
       "</div>"
      ],
      "text/plain": [
       "      PatientId  AppointmentID Gender          ScheduledDay  \\\n",
       "0  2.987250e+13        5642903      F  2016-04-29T18:38:08Z   \n",
       "1  5.589978e+14        5642503      M  2016-04-29T16:08:27Z   \n",
       "2  4.262962e+12        5642549      F  2016-04-29T16:19:04Z   \n",
       "3  8.679512e+11        5642828      F  2016-04-29T17:29:31Z   \n",
       "4  8.841186e+12        5642494      F  2016-04-29T16:07:23Z   \n",
       "\n",
       "         AppointmentDay  Age      Neighbourhood  Scholarship  Hipertension  \\\n",
       "0  2016-04-29T00:00:00Z   62    JARDIM DA PENHA            0             1   \n",
       "1  2016-04-29T00:00:00Z   56    JARDIM DA PENHA            0             0   \n",
       "2  2016-04-29T00:00:00Z   62      MATA DA PRAIA            0             0   \n",
       "3  2016-04-29T00:00:00Z    8  PONTAL DE CAMBURI            0             0   \n",
       "4  2016-04-29T00:00:00Z   56    JARDIM DA PENHA            0             1   \n",
       "\n",
       "   Diabetes  Alcoholism  Handcap  SMS_received No-show  \n",
       "0         0           0        0             0      No  \n",
       "1         0           0        0             0      No  \n",
       "2         0           0        0             0      No  \n",
       "3         0           0        0             0      No  \n",
       "4         1           0        0             0      No  "
      ]
     },
     "execution_count": 4,
     "metadata": {},
     "output_type": "execute_result"
    }
   ],
   "source": [
    "df_app.head()"
   ]
  },
  {
   "cell_type": "code",
   "execution_count": 5,
   "metadata": {},
   "outputs": [
    {
     "data": {
      "text/plain": [
       "(110527, 14)"
      ]
     },
     "execution_count": 5,
     "metadata": {},
     "output_type": "execute_result"
    }
   ],
   "source": [
    "df_app.shape"
   ]
  },
  {
   "cell_type": "markdown",
   "metadata": {},
   "source": [
    "I check for null values and duplicated values."
   ]
  },
  {
   "cell_type": "code",
   "execution_count": 6,
   "metadata": {},
   "outputs": [
    {
     "name": "stdout",
     "output_type": "stream",
     "text": [
      "<class 'pandas.core.frame.DataFrame'>\n",
      "RangeIndex: 110527 entries, 0 to 110526\n",
      "Data columns (total 14 columns):\n",
      "PatientId         110527 non-null float64\n",
      "AppointmentID     110527 non-null int64\n",
      "Gender            110527 non-null object\n",
      "ScheduledDay      110527 non-null object\n",
      "AppointmentDay    110527 non-null object\n",
      "Age               110527 non-null int64\n",
      "Neighbourhood     110527 non-null object\n",
      "Scholarship       110527 non-null int64\n",
      "Hipertension      110527 non-null int64\n",
      "Diabetes          110527 non-null int64\n",
      "Alcoholism        110527 non-null int64\n",
      "Handcap           110527 non-null int64\n",
      "SMS_received      110527 non-null int64\n",
      "No-show           110527 non-null object\n",
      "dtypes: float64(1), int64(8), object(5)\n",
      "memory usage: 11.8+ MB\n"
     ]
    }
   ],
   "source": [
    "df_app.info()"
   ]
  },
  {
   "cell_type": "code",
   "execution_count": 7,
   "metadata": {},
   "outputs": [
    {
     "data": {
      "text/plain": [
       "0"
      ]
     },
     "execution_count": 7,
     "metadata": {},
     "output_type": "execute_result"
    }
   ],
   "source": [
    "df_app.duplicated().sum()"
   ]
  },
  {
   "cell_type": "code",
   "execution_count": 8,
   "metadata": {
    "scrolled": true
   },
   "outputs": [
    {
     "data": {
      "text/plain": [
       "PatientId          62299\n",
       "AppointmentID     110527\n",
       "Gender                 2\n",
       "ScheduledDay      103549\n",
       "AppointmentDay        27\n",
       "Age                  104\n",
       "Neighbourhood         81\n",
       "Scholarship            2\n",
       "Hipertension           2\n",
       "Diabetes               2\n",
       "Alcoholism             2\n",
       "Handcap                5\n",
       "SMS_received           2\n",
       "No-show                2\n",
       "dtype: int64"
      ]
     },
     "execution_count": 8,
     "metadata": {},
     "output_type": "execute_result"
    }
   ],
   "source": [
    "df_app.nunique()"
   ]
  },
  {
   "cell_type": "code",
   "execution_count": 9,
   "metadata": {
    "scrolled": true
   },
   "outputs": [
    {
     "data": {
      "text/html": [
       "<div>\n",
       "<style scoped>\n",
       "    .dataframe tbody tr th:only-of-type {\n",
       "        vertical-align: middle;\n",
       "    }\n",
       "\n",
       "    .dataframe tbody tr th {\n",
       "        vertical-align: top;\n",
       "    }\n",
       "\n",
       "    .dataframe thead th {\n",
       "        text-align: right;\n",
       "    }\n",
       "</style>\n",
       "<table border=\"1\" class=\"dataframe\">\n",
       "  <thead>\n",
       "    <tr style=\"text-align: right;\">\n",
       "      <th></th>\n",
       "      <th>PatientId</th>\n",
       "      <th>AppointmentID</th>\n",
       "      <th>Age</th>\n",
       "      <th>Scholarship</th>\n",
       "      <th>Hipertension</th>\n",
       "      <th>Diabetes</th>\n",
       "      <th>Alcoholism</th>\n",
       "      <th>Handcap</th>\n",
       "      <th>SMS_received</th>\n",
       "    </tr>\n",
       "  </thead>\n",
       "  <tbody>\n",
       "    <tr>\n",
       "      <th>count</th>\n",
       "      <td>1.105270e+05</td>\n",
       "      <td>1.105270e+05</td>\n",
       "      <td>110527.000000</td>\n",
       "      <td>110527.000000</td>\n",
       "      <td>110527.000000</td>\n",
       "      <td>110527.000000</td>\n",
       "      <td>110527.000000</td>\n",
       "      <td>110527.000000</td>\n",
       "      <td>110527.000000</td>\n",
       "    </tr>\n",
       "    <tr>\n",
       "      <th>mean</th>\n",
       "      <td>1.474963e+14</td>\n",
       "      <td>5.675305e+06</td>\n",
       "      <td>37.088874</td>\n",
       "      <td>0.098266</td>\n",
       "      <td>0.197246</td>\n",
       "      <td>0.071865</td>\n",
       "      <td>0.030400</td>\n",
       "      <td>0.022248</td>\n",
       "      <td>0.321026</td>\n",
       "    </tr>\n",
       "    <tr>\n",
       "      <th>std</th>\n",
       "      <td>2.560949e+14</td>\n",
       "      <td>7.129575e+04</td>\n",
       "      <td>23.110205</td>\n",
       "      <td>0.297675</td>\n",
       "      <td>0.397921</td>\n",
       "      <td>0.258265</td>\n",
       "      <td>0.171686</td>\n",
       "      <td>0.161543</td>\n",
       "      <td>0.466873</td>\n",
       "    </tr>\n",
       "    <tr>\n",
       "      <th>min</th>\n",
       "      <td>3.921784e+04</td>\n",
       "      <td>5.030230e+06</td>\n",
       "      <td>-1.000000</td>\n",
       "      <td>0.000000</td>\n",
       "      <td>0.000000</td>\n",
       "      <td>0.000000</td>\n",
       "      <td>0.000000</td>\n",
       "      <td>0.000000</td>\n",
       "      <td>0.000000</td>\n",
       "    </tr>\n",
       "    <tr>\n",
       "      <th>25%</th>\n",
       "      <td>4.172614e+12</td>\n",
       "      <td>5.640286e+06</td>\n",
       "      <td>18.000000</td>\n",
       "      <td>0.000000</td>\n",
       "      <td>0.000000</td>\n",
       "      <td>0.000000</td>\n",
       "      <td>0.000000</td>\n",
       "      <td>0.000000</td>\n",
       "      <td>0.000000</td>\n",
       "    </tr>\n",
       "    <tr>\n",
       "      <th>50%</th>\n",
       "      <td>3.173184e+13</td>\n",
       "      <td>5.680573e+06</td>\n",
       "      <td>37.000000</td>\n",
       "      <td>0.000000</td>\n",
       "      <td>0.000000</td>\n",
       "      <td>0.000000</td>\n",
       "      <td>0.000000</td>\n",
       "      <td>0.000000</td>\n",
       "      <td>0.000000</td>\n",
       "    </tr>\n",
       "    <tr>\n",
       "      <th>75%</th>\n",
       "      <td>9.439172e+13</td>\n",
       "      <td>5.725524e+06</td>\n",
       "      <td>55.000000</td>\n",
       "      <td>0.000000</td>\n",
       "      <td>0.000000</td>\n",
       "      <td>0.000000</td>\n",
       "      <td>0.000000</td>\n",
       "      <td>0.000000</td>\n",
       "      <td>1.000000</td>\n",
       "    </tr>\n",
       "    <tr>\n",
       "      <th>max</th>\n",
       "      <td>9.999816e+14</td>\n",
       "      <td>5.790484e+06</td>\n",
       "      <td>115.000000</td>\n",
       "      <td>1.000000</td>\n",
       "      <td>1.000000</td>\n",
       "      <td>1.000000</td>\n",
       "      <td>1.000000</td>\n",
       "      <td>4.000000</td>\n",
       "      <td>1.000000</td>\n",
       "    </tr>\n",
       "  </tbody>\n",
       "</table>\n",
       "</div>"
      ],
      "text/plain": [
       "          PatientId  AppointmentID            Age    Scholarship  \\\n",
       "count  1.105270e+05   1.105270e+05  110527.000000  110527.000000   \n",
       "mean   1.474963e+14   5.675305e+06      37.088874       0.098266   \n",
       "std    2.560949e+14   7.129575e+04      23.110205       0.297675   \n",
       "min    3.921784e+04   5.030230e+06      -1.000000       0.000000   \n",
       "25%    4.172614e+12   5.640286e+06      18.000000       0.000000   \n",
       "50%    3.173184e+13   5.680573e+06      37.000000       0.000000   \n",
       "75%    9.439172e+13   5.725524e+06      55.000000       0.000000   \n",
       "max    9.999816e+14   5.790484e+06     115.000000       1.000000   \n",
       "\n",
       "        Hipertension       Diabetes     Alcoholism        Handcap  \\\n",
       "count  110527.000000  110527.000000  110527.000000  110527.000000   \n",
       "mean        0.197246       0.071865       0.030400       0.022248   \n",
       "std         0.397921       0.258265       0.171686       0.161543   \n",
       "min         0.000000       0.000000       0.000000       0.000000   \n",
       "25%         0.000000       0.000000       0.000000       0.000000   \n",
       "50%         0.000000       0.000000       0.000000       0.000000   \n",
       "75%         0.000000       0.000000       0.000000       0.000000   \n",
       "max         1.000000       1.000000       1.000000       4.000000   \n",
       "\n",
       "        SMS_received  \n",
       "count  110527.000000  \n",
       "mean        0.321026  \n",
       "std         0.466873  \n",
       "min         0.000000  \n",
       "25%         0.000000  \n",
       "50%         0.000000  \n",
       "75%         1.000000  \n",
       "max         1.000000  "
      ]
     },
     "execution_count": 9,
     "metadata": {},
     "output_type": "execute_result"
    }
   ],
   "source": [
    "df_app.describe()"
   ]
  },
  {
   "cell_type": "code",
   "execution_count": 10,
   "metadata": {
    "scrolled": true
   },
   "outputs": [
    {
     "data": {
      "image/png": "[encoded data removed]",
      "text/plain": [
       "<matplotlib.figure.Figure at 0x7f90e7a2da20>"
      ]
     },
     "metadata": {
      "needs_background": "light"
     },
     "output_type": "display_data"
    }
   ],
   "source": [
    "# Data Distribution of Numerical variables\n",
    "df_app.hist(figsize=(8,8));"
   ]
  },
  {
   "cell_type": "markdown",
   "metadata": {},
   "source": [
    "\n",
    "### Data Cleaning\n",
    "> **Tip**: Make sure that you keep your reader informed on the steps that you are taking in your investigation. Follow every code cell, or every set of related code cells, with a markdown cell to describe to the reader what was found in the preceding cell(s). Try to make it so that the reader can then understand what they will be seeing in the following cell(s).\n",
    " "
   ]
  },
  {
   "cell_type": "markdown",
   "metadata": {},
   "source": [
    "I am going to drop patientID, AppointmentID, ScheduledDay since they won't  be important to the question."
   ]
  },
  {
   "cell_type": "code",
   "execution_count": 11,
   "metadata": {},
   "outputs": [],
   "source": [
    "# After discussing the structure of the data and any problems that need to be\n",
    "#   cleaned, perform those cleaning steps in the second part of this section.\n",
    "df_app.drop([\"PatientId\", \"AppointmentID\",\"AppointmentDay\", \"ScheduledDay\", \"Neighbourhood\"], axis=1, inplace=True)"
   ]
  },
  {
   "cell_type": "code",
   "execution_count": 12,
   "metadata": {},
   "outputs": [
    {
     "data": {
      "text/html": [
       "<div>\n",
       "<style scoped>\n",
       "    .dataframe tbody tr th:only-of-type {\n",
       "        vertical-align: middle;\n",
       "    }\n",
       "\n",
       "    .dataframe tbody tr th {\n",
       "        vertical-align: top;\n",
       "    }\n",
       "\n",
       "    .dataframe thead th {\n",
       "        text-align: right;\n",
       "    }\n",
       "</style>\n",
       "<table border=\"1\" class=\"dataframe\">\n",
       "  <thead>\n",
       "    <tr style=\"text-align: right;\">\n",
       "      <th></th>\n",
       "      <th>Gender</th>\n",
       "      <th>Age</th>\n",
       "      <th>Scholarship</th>\n",
       "      <th>Hipertension</th>\n",
       "      <th>Diabetes</th>\n",
       "      <th>Alcoholism</th>\n",
       "      <th>Handcap</th>\n",
       "      <th>SMS_received</th>\n",
       "      <th>No-show</th>\n",
       "    </tr>\n",
       "  </thead>\n",
       "  <tbody>\n",
       "    <tr>\n",
       "      <th>0</th>\n",
       "      <td>F</td>\n",
       "      <td>62</td>\n",
       "      <td>0</td>\n",
       "      <td>1</td>\n",
       "      <td>0</td>\n",
       "      <td>0</td>\n",
       "      <td>0</td>\n",
       "      <td>0</td>\n",
       "      <td>No</td>\n",
       "    </tr>\n",
       "    <tr>\n",
       "      <th>1</th>\n",
       "      <td>M</td>\n",
       "      <td>56</td>\n",
       "      <td>0</td>\n",
       "      <td>0</td>\n",
       "      <td>0</td>\n",
       "      <td>0</td>\n",
       "      <td>0</td>\n",
       "      <td>0</td>\n",
       "      <td>No</td>\n",
       "    </tr>\n",
       "    <tr>\n",
       "      <th>2</th>\n",
       "      <td>F</td>\n",
       "      <td>62</td>\n",
       "      <td>0</td>\n",
       "      <td>0</td>\n",
       "      <td>0</td>\n",
       "      <td>0</td>\n",
       "      <td>0</td>\n",
       "      <td>0</td>\n",
       "      <td>No</td>\n",
       "    </tr>\n",
       "    <tr>\n",
       "      <th>3</th>\n",
       "      <td>F</td>\n",
       "      <td>8</td>\n",
       "      <td>0</td>\n",
       "      <td>0</td>\n",
       "      <td>0</td>\n",
       "      <td>0</td>\n",
       "      <td>0</td>\n",
       "      <td>0</td>\n",
       "      <td>No</td>\n",
       "    </tr>\n",
       "    <tr>\n",
       "      <th>4</th>\n",
       "      <td>F</td>\n",
       "      <td>56</td>\n",
       "      <td>0</td>\n",
       "      <td>1</td>\n",
       "      <td>1</td>\n",
       "      <td>0</td>\n",
       "      <td>0</td>\n",
       "      <td>0</td>\n",
       "      <td>No</td>\n",
       "    </tr>\n",
       "  </tbody>\n",
       "</table>\n",
       "</div>"
      ],
      "text/plain": [
       "  Gender  Age  Scholarship  Hipertension  Diabetes  Alcoholism  Handcap  \\\n",
       "0      F   62            0             1         0           0        0   \n",
       "1      M   56            0             0         0           0        0   \n",
       "2      F   62            0             0         0           0        0   \n",
       "3      F    8            0             0         0           0        0   \n",
       "4      F   56            0             1         1           0        0   \n",
       "\n",
       "   SMS_received No-show  \n",
       "0             0      No  \n",
       "1             0      No  \n",
       "2             0      No  \n",
       "3             0      No  \n",
       "4             0      No  "
      ]
     },
     "execution_count": 12,
     "metadata": {},
     "output_type": "execute_result"
    }
   ],
   "source": [
    "df_app.head()"
   ]
  },
  {
   "cell_type": "markdown",
   "metadata": {},
   "source": [
    "I am going rename my columns appropriately"
   ]
  },
  {
   "cell_type": "code",
   "execution_count": 13,
   "metadata": {},
   "outputs": [],
   "source": [
    "df_app = df_app.rename(columns=lambda x: x.strip().lower().replace(\"-\", \"_\"))\n",
    "df_app.rename(columns={'hipertension':'hypertension', 'handcap':'handicap'}, inplace=True)"
   ]
  },
  {
   "cell_type": "code",
   "execution_count": 14,
   "metadata": {},
   "outputs": [
    {
     "data": {
      "text/html": [
       "<div>\n",
       "<style scoped>\n",
       "    .dataframe tbody tr th:only-of-type {\n",
       "        vertical-align: middle;\n",
       "    }\n",
       "\n",
       "    .dataframe tbody tr th {\n",
       "        vertical-align: top;\n",
       "    }\n",
       "\n",
       "    .dataframe thead th {\n",
       "        text-align: right;\n",
       "    }\n",
       "</style>\n",
       "<table border=\"1\" class=\"dataframe\">\n",
       "  <thead>\n",
       "    <tr style=\"text-align: right;\">\n",
       "      <th></th>\n",
       "      <th>gender</th>\n",
       "      <th>age</th>\n",
       "      <th>scholarship</th>\n",
       "      <th>hypertension</th>\n",
       "      <th>diabetes</th>\n",
       "      <th>alcoholism</th>\n",
       "      <th>handicap</th>\n",
       "      <th>sms_received</th>\n",
       "      <th>no_show</th>\n",
       "    </tr>\n",
       "  </thead>\n",
       "  <tbody>\n",
       "  </tbody>\n",
       "</table>\n",
       "</div>"
      ],
      "text/plain": [
       "Empty DataFrame\n",
       "Columns: [gender, age, scholarship, hypertension, diabetes, alcoholism, handicap, sms_received, no_show]\n",
       "Index: []"
      ]
     },
     "execution_count": 14,
     "metadata": {},
     "output_type": "execute_result"
    }
   ],
   "source": [
    "df_app.head(0)"
   ]
  },
  {
   "cell_type": "markdown",
   "metadata": {},
   "source": [
    "While accessing my data, I noticed a negative value -1 from the Age column. I am going to drop the row affected."
   ]
  },
  {
   "cell_type": "code",
   "execution_count": 15,
   "metadata": {},
   "outputs": [
    {
     "data": {
      "text/html": [
       "<div>\n",
       "<style scoped>\n",
       "    .dataframe tbody tr th:only-of-type {\n",
       "        vertical-align: middle;\n",
       "    }\n",
       "\n",
       "    .dataframe tbody tr th {\n",
       "        vertical-align: top;\n",
       "    }\n",
       "\n",
       "    .dataframe thead th {\n",
       "        text-align: right;\n",
       "    }\n",
       "</style>\n",
       "<table border=\"1\" class=\"dataframe\">\n",
       "  <thead>\n",
       "    <tr style=\"text-align: right;\">\n",
       "      <th></th>\n",
       "      <th>gender</th>\n",
       "      <th>age</th>\n",
       "      <th>scholarship</th>\n",
       "      <th>hypertension</th>\n",
       "      <th>diabetes</th>\n",
       "      <th>alcoholism</th>\n",
       "      <th>handicap</th>\n",
       "      <th>sms_received</th>\n",
       "      <th>no_show</th>\n",
       "    </tr>\n",
       "  </thead>\n",
       "  <tbody>\n",
       "    <tr>\n",
       "      <th>99832</th>\n",
       "      <td>F</td>\n",
       "      <td>-1</td>\n",
       "      <td>0</td>\n",
       "      <td>0</td>\n",
       "      <td>0</td>\n",
       "      <td>0</td>\n",
       "      <td>0</td>\n",
       "      <td>0</td>\n",
       "      <td>No</td>\n",
       "    </tr>\n",
       "  </tbody>\n",
       "</table>\n",
       "</div>"
      ],
      "text/plain": [
       "      gender  age  scholarship  hypertension  diabetes  alcoholism  handicap  \\\n",
       "99832      F   -1            0             0         0           0         0   \n",
       "\n",
       "       sms_received no_show  \n",
       "99832             0      No  "
      ]
     },
     "execution_count": 15,
     "metadata": {},
     "output_type": "execute_result"
    }
   ],
   "source": [
    "df_app[df_app['age'] == -1]"
   ]
  },
  {
   "cell_type": "code",
   "execution_count": 16,
   "metadata": {},
   "outputs": [],
   "source": [
    "df_app.drop(99832, axis=0, inplace=True)"
   ]
  },
  {
   "cell_type": "code",
   "execution_count": 17,
   "metadata": {
    "scrolled": true
   },
   "outputs": [
    {
     "data": {
      "text/html": [
       "<div>\n",
       "<style scoped>\n",
       "    .dataframe tbody tr th:only-of-type {\n",
       "        vertical-align: middle;\n",
       "    }\n",
       "\n",
       "    .dataframe tbody tr th {\n",
       "        vertical-align: top;\n",
       "    }\n",
       "\n",
       "    .dataframe thead th {\n",
       "        text-align: right;\n",
       "    }\n",
       "</style>\n",
       "<table border=\"1\" class=\"dataframe\">\n",
       "  <thead>\n",
       "    <tr style=\"text-align: right;\">\n",
       "      <th></th>\n",
       "      <th>gender</th>\n",
       "      <th>age</th>\n",
       "      <th>scholarship</th>\n",
       "      <th>hypertension</th>\n",
       "      <th>diabetes</th>\n",
       "      <th>alcoholism</th>\n",
       "      <th>handicap</th>\n",
       "      <th>sms_received</th>\n",
       "      <th>no_show</th>\n",
       "    </tr>\n",
       "  </thead>\n",
       "  <tbody>\n",
       "  </tbody>\n",
       "</table>\n",
       "</div>"
      ],
      "text/plain": [
       "Empty DataFrame\n",
       "Columns: [gender, age, scholarship, hypertension, diabetes, alcoholism, handicap, sms_received, no_show]\n",
       "Index: []"
      ]
     },
     "execution_count": 17,
     "metadata": {},
     "output_type": "execute_result"
    }
   ],
   "source": [
    "df_app[df_app['age'] == -1]"
   ]
  },
  {
   "cell_type": "code",
   "execution_count": 18,
   "metadata": {},
   "outputs": [
    {
     "data": {
      "text/plain": [
       "(110526, 9)"
      ]
     },
     "execution_count": 18,
     "metadata": {},
     "output_type": "execute_result"
    }
   ],
   "source": [
    "df_app.shape"
   ]
  },
  {
   "cell_type": "markdown",
   "metadata": {},
   "source": [
    "I will be changing columns to datatypes that i can appropriately work with. I will also be changing the value of the 'No show' data to integers and also convert its datatype to Boolean. Same goes for scholarship, hypertension, diabetes, alcoholism, handicap, no_show.\n",
    "\n",
    "#### NO == 0, YES == 1"
   ]
  },
  {
   "cell_type": "code",
   "execution_count": 19,
   "metadata": {},
   "outputs": [],
   "source": [
    "df_app['no_show'].replace({'No':0, 'Yes':1}, inplace=True)"
   ]
  },
  {
   "cell_type": "code",
   "execution_count": 20,
   "metadata": {},
   "outputs": [],
   "source": [
    "names = ['scholarship', 'hypertension', 'diabetes', 'alcoholism', 'handicap', 'no_show']\n",
    "for i in names:\n",
    "    df_app[i] = df_app[i].astype('bool')"
   ]
  },
  {
   "cell_type": "code",
   "execution_count": 21,
   "metadata": {},
   "outputs": [
    {
     "name": "stdout",
     "output_type": "stream",
     "text": [
      "<class 'pandas.core.frame.DataFrame'>\n",
      "Int64Index: 110526 entries, 0 to 110526\n",
      "Data columns (total 9 columns):\n",
      "gender          110526 non-null object\n",
      "age             110526 non-null int64\n",
      "scholarship     110526 non-null bool\n",
      "hypertension    110526 non-null bool\n",
      "diabetes        110526 non-null bool\n",
      "alcoholism      110526 non-null bool\n",
      "handicap        110526 non-null bool\n",
      "sms_received    110526 non-null int64\n",
      "no_show         110526 non-null bool\n",
      "dtypes: bool(6), int64(2), object(1)\n",
      "memory usage: 4.0+ MB\n"
     ]
    }
   ],
   "source": [
    "df_app.info()"
   ]
  },
  {
   "cell_type": "code",
   "execution_count": 22,
   "metadata": {},
   "outputs": [
    {
     "data": {
      "text/html": [
       "<div>\n",
       "<style scoped>\n",
       "    .dataframe tbody tr th:only-of-type {\n",
       "        vertical-align: middle;\n",
       "    }\n",
       "\n",
       "    .dataframe tbody tr th {\n",
       "        vertical-align: top;\n",
       "    }\n",
       "\n",
       "    .dataframe thead th {\n",
       "        text-align: right;\n",
       "    }\n",
       "</style>\n",
       "<table border=\"1\" class=\"dataframe\">\n",
       "  <thead>\n",
       "    <tr style=\"text-align: right;\">\n",
       "      <th></th>\n",
       "      <th>gender</th>\n",
       "      <th>age</th>\n",
       "      <th>scholarship</th>\n",
       "      <th>hypertension</th>\n",
       "      <th>diabetes</th>\n",
       "      <th>alcoholism</th>\n",
       "      <th>handicap</th>\n",
       "      <th>sms_received</th>\n",
       "      <th>no_show</th>\n",
       "    </tr>\n",
       "  </thead>\n",
       "  <tbody>\n",
       "    <tr>\n",
       "      <th>0</th>\n",
       "      <td>F</td>\n",
       "      <td>62</td>\n",
       "      <td>False</td>\n",
       "      <td>True</td>\n",
       "      <td>False</td>\n",
       "      <td>False</td>\n",
       "      <td>False</td>\n",
       "      <td>0</td>\n",
       "      <td>False</td>\n",
       "    </tr>\n",
       "    <tr>\n",
       "      <th>1</th>\n",
       "      <td>M</td>\n",
       "      <td>56</td>\n",
       "      <td>False</td>\n",
       "      <td>False</td>\n",
       "      <td>False</td>\n",
       "      <td>False</td>\n",
       "      <td>False</td>\n",
       "      <td>0</td>\n",
       "      <td>False</td>\n",
       "    </tr>\n",
       "    <tr>\n",
       "      <th>2</th>\n",
       "      <td>F</td>\n",
       "      <td>62</td>\n",
       "      <td>False</td>\n",
       "      <td>False</td>\n",
       "      <td>False</td>\n",
       "      <td>False</td>\n",
       "      <td>False</td>\n",
       "      <td>0</td>\n",
       "      <td>False</td>\n",
       "    </tr>\n",
       "    <tr>\n",
       "      <th>3</th>\n",
       "      <td>F</td>\n",
       "      <td>8</td>\n",
       "      <td>False</td>\n",
       "      <td>False</td>\n",
       "      <td>False</td>\n",
       "      <td>False</td>\n",
       "      <td>False</td>\n",
       "      <td>0</td>\n",
       "      <td>False</td>\n",
       "    </tr>\n",
       "    <tr>\n",
       "      <th>4</th>\n",
       "      <td>F</td>\n",
       "      <td>56</td>\n",
       "      <td>False</td>\n",
       "      <td>True</td>\n",
       "      <td>True</td>\n",
       "      <td>False</td>\n",
       "      <td>False</td>\n",
       "      <td>0</td>\n",
       "      <td>False</td>\n",
       "    </tr>\n",
       "  </tbody>\n",
       "</table>\n",
       "</div>"
      ],
      "text/plain": [
       "  gender  age  scholarship  hypertension  diabetes  alcoholism  handicap  \\\n",
       "0      F   62        False          True     False       False     False   \n",
       "1      M   56        False         False     False       False     False   \n",
       "2      F   62        False         False     False       False     False   \n",
       "3      F    8        False         False     False       False     False   \n",
       "4      F   56        False          True      True       False     False   \n",
       "\n",
       "   sms_received  no_show  \n",
       "0             0    False  \n",
       "1             0    False  \n",
       "2             0    False  \n",
       "3             0    False  \n",
       "4             0    False  "
      ]
     },
     "execution_count": 22,
     "metadata": {},
     "output_type": "execute_result"
    }
   ],
   "source": [
    "df_app.head()"
   ]
  },
  {
   "cell_type": "code",
   "execution_count": 23,
   "metadata": {},
   "outputs": [
    {
     "data": {
      "text/plain": [
       "0      3539\n",
       "1      2273\n",
       "52     1746\n",
       "49     1652\n",
       "53     1651\n",
       "       ... \n",
       "98        6\n",
       "115       5\n",
       "100       4\n",
       "102       2\n",
       "99        1\n",
       "Name: age, Length: 103, dtype: int64"
      ]
     },
     "execution_count": 23,
     "metadata": {},
     "output_type": "execute_result"
    }
   ],
   "source": [
    "df_app.age.value_counts()"
   ]
  },
  {
   "cell_type": "markdown",
   "metadata": {},
   "source": [
    "<a id='eda'></a>\n",
    "## Exploratory Data Analysis"
   ]
  },
  {
   "cell_type": "markdown",
   "metadata": {},
   "source": [
    "### Overall Data Exploration"
   ]
  },
  {
   "cell_type": "markdown",
   "metadata": {},
   "source": [
    "Let's analyse our dependent variable 'no_show'"
   ]
  },
  {
   "cell_type": "code",
   "execution_count": 24,
   "metadata": {},
   "outputs": [
    {
     "data": {
      "text/plain": [
       "False    88207\n",
       "True     22319\n",
       "Name: no_show, dtype: int64"
      ]
     },
     "execution_count": 24,
     "metadata": {},
     "output_type": "execute_result"
    }
   ],
   "source": [
    "df_app.no_show.value_counts()"
   ]
  },
  {
   "cell_type": "code",
   "execution_count": 25,
   "metadata": {
    "scrolled": true
   },
   "outputs": [
    {
     "data": {
      "image/png": "[encoded data removed]",
      "text/plain": [
       "<matplotlib.figure.Figure at 0x7f90e77f34a8>"
      ]
     },
     "metadata": {},
     "output_type": "display_data"
    }
   ],
   "source": [
    "plt.figure(figsize = (17,6))\n",
    "df_app.no_show.value_counts().plot(kind='pie', autopct='%1.1f%%', shadow=True, explode=[0.05,0.05], legend=True)\n",
    "plt.title('This is a Pie Chart showing the share of No-Show-Appointment among patients')\n",
    "plt.legend(bbox_to_anchor=(1,1.02), loc='upper left')\n",
    "\n",
    "plt.show()"
   ]
  },
  {
   "cell_type": "markdown",
   "metadata": {},
   "source": [
    "Calculate the total no_show count in data"
   ]
  },
  {
   "cell_type": "code",
   "execution_count": 26,
   "metadata": {},
   "outputs": [
    {
     "data": {
      "text/plain": [
       "no_show  age\n",
       "False    0      2900\n",
       "         1      1858\n",
       "         52     1449\n",
       "         56     1372\n",
       "         2      1366\n",
       "                ... \n",
       "True     95        6\n",
       "         115       3\n",
       "         97        2\n",
       "         96        1\n",
       "         98        1\n",
       "Name: age, Length: 203, dtype: int64"
      ]
     },
     "execution_count": 26,
     "metadata": {},
     "output_type": "execute_result"
    }
   ],
   "source": [
    "total_value = df_app.groupby('no_show')['age'].value_counts()\n",
    "total_value"
   ]
  },
  {
   "cell_type": "code",
   "execution_count": 27,
   "metadata": {},
   "outputs": [
    {
     "data": {
      "text/plain": [
       "0.20193438647919945"
      ]
     },
     "execution_count": 27,
     "metadata": {},
     "output_type": "execute_result"
    }
   ],
   "source": [
    "# 22319 patients that did not show up on their appointed date make up 20% of all appointments\n",
    "age_prop = df_app['no_show'].sum() / len(df_app.index)\n",
    "age_prop"
   ]
  },
  {
   "cell_type": "markdown",
   "metadata": {},
   "source": [
    "Let's find the correlation between our data sets "
   ]
  },
  {
   "cell_type": "code",
   "execution_count": 28,
   "metadata": {
    "scrolled": false
   },
   "outputs": [
    {
     "data": {
      "text/html": [
       "<style  type=\"text/css\" >\n",
       "    #T_4b2be8a0_2078_11ed_a5f0_0242ac120002row0_col0 {\n",
       "            background-color:  #7f0000;\n",
       "            color:  #f1f1f1;\n",
       "        }    #T_4b2be8a0_2078_11ed_a5f0_0242ac120002row0_col1 {\n",
       "            background-color:  #fff7ec;\n",
       "            color:  #000000;\n",
       "        }    #T_4b2be8a0_2078_11ed_a5f0_0242ac120002row0_col2 {\n",
       "            background-color:  #fa8656;\n",
       "            color:  #000000;\n",
       "        }    #T_4b2be8a0_2078_11ed_a5f0_0242ac120002row0_col3 {\n",
       "            background-color:  #fdc892;\n",
       "            color:  #000000;\n",
       "        }    #T_4b2be8a0_2078_11ed_a5f0_0242ac120002row0_col4 {\n",
       "            background-color:  #fee9ca;\n",
       "            color:  #000000;\n",
       "        }    #T_4b2be8a0_2078_11ed_a5f0_0242ac120002row0_col5 {\n",
       "            background-color:  #feeace;\n",
       "            color:  #000000;\n",
       "        }    #T_4b2be8a0_2078_11ed_a5f0_0242ac120002row0_col6 {\n",
       "            background-color:  #fff3e2;\n",
       "            color:  #000000;\n",
       "        }    #T_4b2be8a0_2078_11ed_a5f0_0242ac120002row0_col7 {\n",
       "            background-color:  #fff7ec;\n",
       "            color:  #000000;\n",
       "        }    #T_4b2be8a0_2078_11ed_a5f0_0242ac120002row1_col0 {\n",
       "            background-color:  #fff7ec;\n",
       "            color:  #000000;\n",
       "        }    #T_4b2be8a0_2078_11ed_a5f0_0242ac120002row1_col1 {\n",
       "            background-color:  #7f0000;\n",
       "            color:  #f1f1f1;\n",
       "        }    #T_4b2be8a0_2078_11ed_a5f0_0242ac120002row1_col2 {\n",
       "            background-color:  #fff6e9;\n",
       "            color:  #000000;\n",
       "        }    #T_4b2be8a0_2078_11ed_a5f0_0242ac120002row1_col3 {\n",
       "            background-color:  #fff7ec;\n",
       "            color:  #000000;\n",
       "        }    #T_4b2be8a0_2078_11ed_a5f0_0242ac120002row1_col4 {\n",
       "            background-color:  #fff0db;\n",
       "            color:  #000000;\n",
       "        }    #T_4b2be8a0_2078_11ed_a5f0_0242ac120002row1_col5 {\n",
       "            background-color:  #fff5e7;\n",
       "            color:  #000000;\n",
       "        }    #T_4b2be8a0_2078_11ed_a5f0_0242ac120002row1_col6 {\n",
       "            background-color:  #fff4e5;\n",
       "            color:  #000000;\n",
       "        }    #T_4b2be8a0_2078_11ed_a5f0_0242ac120002row1_col7 {\n",
       "            background-color:  #feedd4;\n",
       "            color:  #000000;\n",
       "        }    #T_4b2be8a0_2078_11ed_a5f0_0242ac120002row2_col0 {\n",
       "            background-color:  #f77f53;\n",
       "            color:  #000000;\n",
       "        }    #T_4b2be8a0_2078_11ed_a5f0_0242ac120002row2_col1 {\n",
       "            background-color:  #feefd9;\n",
       "            color:  #000000;\n",
       "        }    #T_4b2be8a0_2078_11ed_a5f0_0242ac120002row2_col2 {\n",
       "            background-color:  #7f0000;\n",
       "            color:  #f1f1f1;\n",
       "        }    #T_4b2be8a0_2078_11ed_a5f0_0242ac120002row2_col3 {\n",
       "            background-color:  #fca06b;\n",
       "            color:  #000000;\n",
       "        }    #T_4b2be8a0_2078_11ed_a5f0_0242ac120002row2_col4 {\n",
       "            background-color:  #feeacc;\n",
       "            color:  #000000;\n",
       "        }    #T_4b2be8a0_2078_11ed_a5f0_0242ac120002row2_col5 {\n",
       "            background-color:  #feeace;\n",
       "            color:  #000000;\n",
       "        }    #T_4b2be8a0_2078_11ed_a5f0_0242ac120002row2_col6 {\n",
       "            background-color:  #fff5e7;\n",
       "            color:  #000000;\n",
       "        }    #T_4b2be8a0_2078_11ed_a5f0_0242ac120002row2_col7 {\n",
       "            background-color:  #fff5e6;\n",
       "            color:  #000000;\n",
       "        }    #T_4b2be8a0_2078_11ed_a5f0_0242ac120002row3_col0 {\n",
       "            background-color:  #fdbf89;\n",
       "            color:  #000000;\n",
       "        }    #T_4b2be8a0_2078_11ed_a5f0_0242ac120002row3_col1 {\n",
       "            background-color:  #fff0db;\n",
       "            color:  #000000;\n",
       "        }    #T_4b2be8a0_2078_11ed_a5f0_0242ac120002row3_col2 {\n",
       "            background-color:  #fc9f6a;\n",
       "            color:  #000000;\n",
       "        }    #T_4b2be8a0_2078_11ed_a5f0_0242ac120002row3_col3 {\n",
       "            background-color:  #7f0000;\n",
       "            color:  #f1f1f1;\n",
       "        }    #T_4b2be8a0_2078_11ed_a5f0_0242ac120002row3_col4 {\n",
       "            background-color:  #fff2e0;\n",
       "            color:  #000000;\n",
       "        }    #T_4b2be8a0_2078_11ed_a5f0_0242ac120002row3_col5 {\n",
       "            background-color:  #feedd4;\n",
       "            color:  #000000;\n",
       "        }    #T_4b2be8a0_2078_11ed_a5f0_0242ac120002row3_col6 {\n",
       "            background-color:  #fff6ea;\n",
       "            color:  #000000;\n",
       "        }    #T_4b2be8a0_2078_11ed_a5f0_0242ac120002row3_col7 {\n",
       "            background-color:  #fff2e1;\n",
       "            color:  #000000;\n",
       "        }    #T_4b2be8a0_2078_11ed_a5f0_0242ac120002row4_col0 {\n",
       "            background-color:  #fee0b8;\n",
       "            color:  #000000;\n",
       "        }    #T_4b2be8a0_2078_11ed_a5f0_0242ac120002row4_col1 {\n",
       "            background-color:  #fee9cb;\n",
       "            color:  #000000;\n",
       "        }    #T_4b2be8a0_2078_11ed_a5f0_0242ac120002row4_col2 {\n",
       "            background-color:  #fee9ca;\n",
       "            color:  #000000;\n",
       "        }    #T_4b2be8a0_2078_11ed_a5f0_0242ac120002row4_col3 {\n",
       "            background-color:  #fff2e1;\n",
       "            color:  #000000;\n",
       "        }    #T_4b2be8a0_2078_11ed_a5f0_0242ac120002row4_col4 {\n",
       "            background-color:  #7f0000;\n",
       "            color:  #f1f1f1;\n",
       "        }    #T_4b2be8a0_2078_11ed_a5f0_0242ac120002row4_col5 {\n",
       "            background-color:  #fff4e4;\n",
       "            color:  #000000;\n",
       "        }    #T_4b2be8a0_2078_11ed_a5f0_0242ac120002row4_col6 {\n",
       "            background-color:  #fff7ec;\n",
       "            color:  #000000;\n",
       "        }    #T_4b2be8a0_2078_11ed_a5f0_0242ac120002row4_col7 {\n",
       "            background-color:  #fff0dc;\n",
       "            color:  #000000;\n",
       "        }    #T_4b2be8a0_2078_11ed_a5f0_0242ac120002row5_col0 {\n",
       "            background-color:  #fee2bc;\n",
       "            color:  #000000;\n",
       "        }    #T_4b2be8a0_2078_11ed_a5f0_0242ac120002row5_col1 {\n",
       "            background-color:  #feeed7;\n",
       "            color:  #000000;\n",
       "        }    #T_4b2be8a0_2078_11ed_a5f0_0242ac120002row5_col2 {\n",
       "            background-color:  #fee9cb;\n",
       "            color:  #000000;\n",
       "        }    #T_4b2be8a0_2078_11ed_a5f0_0242ac120002row5_col3 {\n",
       "            background-color:  #feeed5;\n",
       "            color:  #000000;\n",
       "        }    #T_4b2be8a0_2078_11ed_a5f0_0242ac120002row5_col4 {\n",
       "            background-color:  #fff4e4;\n",
       "            color:  #000000;\n",
       "        }    #T_4b2be8a0_2078_11ed_a5f0_0242ac120002row5_col5 {\n",
       "            background-color:  #7f0000;\n",
       "            color:  #f1f1f1;\n",
       "        }    #T_4b2be8a0_2078_11ed_a5f0_0242ac120002row5_col6 {\n",
       "            background-color:  #fff7ec;\n",
       "            color:  #000000;\n",
       "        }    #T_4b2be8a0_2078_11ed_a5f0_0242ac120002row5_col7 {\n",
       "            background-color:  #fff1de;\n",
       "            color:  #000000;\n",
       "        }    #T_4b2be8a0_2078_11ed_a5f0_0242ac120002row6_col0 {\n",
       "            background-color:  #feecd1;\n",
       "            color:  #000000;\n",
       "        }    #T_4b2be8a0_2078_11ed_a5f0_0242ac120002row6_col1 {\n",
       "            background-color:  #feedd4;\n",
       "            color:  #000000;\n",
       "        }    #T_4b2be8a0_2078_11ed_a5f0_0242ac120002row6_col2 {\n",
       "            background-color:  #fff4e4;\n",
       "            color:  #000000;\n",
       "        }    #T_4b2be8a0_2078_11ed_a5f0_0242ac120002row6_col3 {\n",
       "            background-color:  #fff6ea;\n",
       "            color:  #000000;\n",
       "        }    #T_4b2be8a0_2078_11ed_a5f0_0242ac120002row6_col4 {\n",
       "            background-color:  #fff7ec;\n",
       "            color:  #000000;\n",
       "        }    #T_4b2be8a0_2078_11ed_a5f0_0242ac120002row6_col5 {\n",
       "            background-color:  #fff7ec;\n",
       "            color:  #000000;\n",
       "        }    #T_4b2be8a0_2078_11ed_a5f0_0242ac120002row6_col6 {\n",
       "            background-color:  #7f0000;\n",
       "            color:  #f1f1f1;\n",
       "        }    #T_4b2be8a0_2078_11ed_a5f0_0242ac120002row6_col7 {\n",
       "            background-color:  #fee0b7;\n",
       "            color:  #000000;\n",
       "        }    #T_4b2be8a0_2078_11ed_a5f0_0242ac120002row7_col0 {\n",
       "            background-color:  #fff4e4;\n",
       "            color:  #000000;\n",
       "        }    #T_4b2be8a0_2078_11ed_a5f0_0242ac120002row7_col1 {\n",
       "            background-color:  #feeacc;\n",
       "            color:  #000000;\n",
       "        }    #T_4b2be8a0_2078_11ed_a5f0_0242ac120002row7_col2 {\n",
       "            background-color:  #fff7ec;\n",
       "            color:  #000000;\n",
       "        }    #T_4b2be8a0_2078_11ed_a5f0_0242ac120002row7_col3 {\n",
       "            background-color:  #fff6ea;\n",
       "            color:  #000000;\n",
       "        }    #T_4b2be8a0_2078_11ed_a5f0_0242ac120002row7_col4 {\n",
       "            background-color:  #fff4e5;\n",
       "            color:  #000000;\n",
       "        }    #T_4b2be8a0_2078_11ed_a5f0_0242ac120002row7_col5 {\n",
       "            background-color:  #fff5e7;\n",
       "            color:  #000000;\n",
       "        }    #T_4b2be8a0_2078_11ed_a5f0_0242ac120002row7_col6 {\n",
       "            background-color:  #fee4c0;\n",
       "            color:  #000000;\n",
       "        }    #T_4b2be8a0_2078_11ed_a5f0_0242ac120002row7_col7 {\n",
       "            background-color:  #7f0000;\n",
       "            color:  #f1f1f1;\n",
       "        }</style><table id=\"T_4b2be8a0_2078_11ed_a5f0_0242ac120002\" ><thead>    <tr>        <th class=\"blank level0\" ></th>        <th class=\"col_heading level0 col0\" >age</th>        <th class=\"col_heading level0 col1\" >scholarship</th>        <th class=\"col_heading level0 col2\" >hypertension</th>        <th class=\"col_heading level0 col3\" >diabetes</th>        <th class=\"col_heading level0 col4\" >alcoholism</th>        <th class=\"col_heading level0 col5\" >handicap</th>        <th class=\"col_heading level0 col6\" >sms_received</th>        <th class=\"col_heading level0 col7\" >no_show</th>    </tr></thead><tbody>\n",
       "                <tr>\n",
       "                        <th id=\"T_4b2be8a0_2078_11ed_a5f0_0242ac120002level0_row0\" class=\"row_heading level0 row0\" >age</th>\n",
       "                        <td id=\"T_4b2be8a0_2078_11ed_a5f0_0242ac120002row0_col0\" class=\"data row0 col0\" >1</td>\n",
       "                        <td id=\"T_4b2be8a0_2078_11ed_a5f0_0242ac120002row0_col1\" class=\"data row0 col1\" >-0.0924633</td>\n",
       "                        <td id=\"T_4b2be8a0_2078_11ed_a5f0_0242ac120002row0_col2\" class=\"data row0 col2\" >0.504586</td>\n",
       "                        <td id=\"T_4b2be8a0_2078_11ed_a5f0_0242ac120002row0_col3\" class=\"data row0 col3\" >0.292391</td>\n",
       "                        <td id=\"T_4b2be8a0_2078_11ed_a5f0_0242ac120002row0_col4\" class=\"data row0 col4\" >0.0958098</td>\n",
       "                        <td id=\"T_4b2be8a0_2078_11ed_a5f0_0242ac120002row0_col5\" class=\"data row0 col5\" >0.0837416</td>\n",
       "                        <td id=\"T_4b2be8a0_2078_11ed_a5f0_0242ac120002row0_col6\" class=\"data row0 col6\" >0.0126333</td>\n",
       "                        <td id=\"T_4b2be8a0_2078_11ed_a5f0_0242ac120002row0_col7\" class=\"data row0 col7\" >-0.0603268</td>\n",
       "            </tr>\n",
       "            <tr>\n",
       "                        <th id=\"T_4b2be8a0_2078_11ed_a5f0_0242ac120002level0_row1\" class=\"row_heading level0 row1\" >scholarship</th>\n",
       "                        <td id=\"T_4b2be8a0_2078_11ed_a5f0_0242ac120002row1_col0\" class=\"data row1 col0\" >-0.0924633</td>\n",
       "                        <td id=\"T_4b2be8a0_2078_11ed_a5f0_0242ac120002row1_col1\" class=\"data row1 col1\" >1</td>\n",
       "                        <td id=\"T_4b2be8a0_2078_11ed_a5f0_0242ac120002row1_col2\" class=\"data row1 col2\" >-0.0197303</td>\n",
       "                        <td id=\"T_4b2be8a0_2078_11ed_a5f0_0242ac120002row1_col3\" class=\"data row1 col3\" >-0.0248944</td>\n",
       "                        <td id=\"T_4b2be8a0_2078_11ed_a5f0_0242ac120002row1_col4\" class=\"data row1 col4\" >0.035022</td>\n",
       "                        <td id=\"T_4b2be8a0_2078_11ed_a5f0_0242ac120002row1_col5\" class=\"data row1 col5\" >-0.00910378</td>\n",
       "                        <td id=\"T_4b2be8a0_2078_11ed_a5f0_0242ac120002row1_col6\" class=\"data row1 col6\" >0.00119196</td>\n",
       "                        <td id=\"T_4b2be8a0_2078_11ed_a5f0_0242ac120002row1_col7\" class=\"data row1 col7\" >0.0291336</td>\n",
       "            </tr>\n",
       "            <tr>\n",
       "                        <th id=\"T_4b2be8a0_2078_11ed_a5f0_0242ac120002level0_row2\" class=\"row_heading level0 row2\" >hypertension</th>\n",
       "                        <td id=\"T_4b2be8a0_2078_11ed_a5f0_0242ac120002row2_col0\" class=\"data row2 col0\" >0.504586</td>\n",
       "                        <td id=\"T_4b2be8a0_2078_11ed_a5f0_0242ac120002row2_col1\" class=\"data row2 col1\" >-0.0197303</td>\n",
       "                        <td id=\"T_4b2be8a0_2078_11ed_a5f0_0242ac120002row2_col2\" class=\"data row2 col2\" >1</td>\n",
       "                        <td id=\"T_4b2be8a0_2078_11ed_a5f0_0242ac120002row2_col3\" class=\"data row2 col3\" >0.433085</td>\n",
       "                        <td id=\"T_4b2be8a0_2078_11ed_a5f0_0242ac120002row2_col4\" class=\"data row2 col4\" >0.0879701</td>\n",
       "                        <td id=\"T_4b2be8a0_2078_11ed_a5f0_0242ac120002row2_col5\" class=\"data row2 col5\" >0.0848511</td>\n",
       "                        <td id=\"T_4b2be8a0_2078_11ed_a5f0_0242ac120002row2_col6\" class=\"data row2 col6\" >-0.00626997</td>\n",
       "                        <td id=\"T_4b2be8a0_2078_11ed_a5f0_0242ac120002row2_col7\" class=\"data row2 col7\" >-0.0357035</td>\n",
       "            </tr>\n",
       "            <tr>\n",
       "                        <th id=\"T_4b2be8a0_2078_11ed_a5f0_0242ac120002level0_row3\" class=\"row_heading level0 row3\" >diabetes</th>\n",
       "                        <td id=\"T_4b2be8a0_2078_11ed_a5f0_0242ac120002row3_col0\" class=\"data row3 col0\" >0.292391</td>\n",
       "                        <td id=\"T_4b2be8a0_2078_11ed_a5f0_0242ac120002row3_col1\" class=\"data row3 col1\" >-0.0248944</td>\n",
       "                        <td id=\"T_4b2be8a0_2078_11ed_a5f0_0242ac120002row3_col2\" class=\"data row3 col2\" >0.433085</td>\n",
       "                        <td id=\"T_4b2be8a0_2078_11ed_a5f0_0242ac120002row3_col3\" class=\"data row3 col3\" >1</td>\n",
       "                        <td id=\"T_4b2be8a0_2078_11ed_a5f0_0242ac120002row3_col4\" class=\"data row3 col4\" >0.0184731</td>\n",
       "                        <td id=\"T_4b2be8a0_2078_11ed_a5f0_0242ac120002row3_col5\" class=\"data row3 col5\" >0.0591445</td>\n",
       "                        <td id=\"T_4b2be8a0_2078_11ed_a5f0_0242ac120002row3_col6\" class=\"data row3 col6\" >-0.0145518</td>\n",
       "                        <td id=\"T_4b2be8a0_2078_11ed_a5f0_0242ac120002row3_col7\" class=\"data row3 col7\" >-0.0151812</td>\n",
       "            </tr>\n",
       "            <tr>\n",
       "                        <th id=\"T_4b2be8a0_2078_11ed_a5f0_0242ac120002level0_row4\" class=\"row_heading level0 row4\" >alcoholism</th>\n",
       "                        <td id=\"T_4b2be8a0_2078_11ed_a5f0_0242ac120002row4_col0\" class=\"data row4 col0\" >0.0958098</td>\n",
       "                        <td id=\"T_4b2be8a0_2078_11ed_a5f0_0242ac120002row4_col1\" class=\"data row4 col1\" >0.035022</td>\n",
       "                        <td id=\"T_4b2be8a0_2078_11ed_a5f0_0242ac120002row4_col2\" class=\"data row4 col2\" >0.0879701</td>\n",
       "                        <td id=\"T_4b2be8a0_2078_11ed_a5f0_0242ac120002row4_col3\" class=\"data row4 col3\" >0.0184731</td>\n",
       "                        <td id=\"T_4b2be8a0_2078_11ed_a5f0_0242ac120002row4_col4\" class=\"data row4 col4\" >1</td>\n",
       "                        <td id=\"T_4b2be8a0_2078_11ed_a5f0_0242ac120002row4_col5\" class=\"data row4 col5\" >0.00369172</td>\n",
       "                        <td id=\"T_4b2be8a0_2078_11ed_a5f0_0242ac120002row4_col6\" class=\"data row4 col6\" >-0.0261485</td>\n",
       "                        <td id=\"T_4b2be8a0_2078_11ed_a5f0_0242ac120002row4_col7\" class=\"data row4 col7\" >-0.00019685</td>\n",
       "            </tr>\n",
       "            <tr>\n",
       "                        <th id=\"T_4b2be8a0_2078_11ed_a5f0_0242ac120002level0_row5\" class=\"row_heading level0 row5\" >handicap</th>\n",
       "                        <td id=\"T_4b2be8a0_2078_11ed_a5f0_0242ac120002row5_col0\" class=\"data row5 col0\" >0.0837416</td>\n",
       "                        <td id=\"T_4b2be8a0_2078_11ed_a5f0_0242ac120002row5_col1\" class=\"data row5 col1\" >-0.00910378</td>\n",
       "                        <td id=\"T_4b2be8a0_2078_11ed_a5f0_0242ac120002row5_col2\" class=\"data row5 col2\" >0.0848511</td>\n",
       "                        <td id=\"T_4b2be8a0_2078_11ed_a5f0_0242ac120002row5_col3\" class=\"data row5 col3\" >0.0591445</td>\n",
       "                        <td id=\"T_4b2be8a0_2078_11ed_a5f0_0242ac120002row5_col4\" class=\"data row5 col4\" >0.00369172</td>\n",
       "                        <td id=\"T_4b2be8a0_2078_11ed_a5f0_0242ac120002row5_col5\" class=\"data row5 col5\" >1</td>\n",
       "                        <td id=\"T_4b2be8a0_2078_11ed_a5f0_0242ac120002row5_col6\" class=\"data row5 col6\" >-0.0252206</td>\n",
       "                        <td id=\"T_4b2be8a0_2078_11ed_a5f0_0242ac120002row5_col7\" class=\"data row5 col7\" >-0.00728141</td>\n",
       "            </tr>\n",
       "            <tr>\n",
       "                        <th id=\"T_4b2be8a0_2078_11ed_a5f0_0242ac120002level0_row6\" class=\"row_heading level0 row6\" >sms_received</th>\n",
       "                        <td id=\"T_4b2be8a0_2078_11ed_a5f0_0242ac120002row6_col0\" class=\"data row6 col0\" >0.0126333</td>\n",
       "                        <td id=\"T_4b2be8a0_2078_11ed_a5f0_0242ac120002row6_col1\" class=\"data row6 col1\" >0.00119196</td>\n",
       "                        <td id=\"T_4b2be8a0_2078_11ed_a5f0_0242ac120002row6_col2\" class=\"data row6 col2\" >-0.00626997</td>\n",
       "                        <td id=\"T_4b2be8a0_2078_11ed_a5f0_0242ac120002row6_col3\" class=\"data row6 col3\" >-0.0145518</td>\n",
       "                        <td id=\"T_4b2be8a0_2078_11ed_a5f0_0242ac120002row6_col4\" class=\"data row6 col4\" >-0.0261485</td>\n",
       "                        <td id=\"T_4b2be8a0_2078_11ed_a5f0_0242ac120002row6_col5\" class=\"data row6 col5\" >-0.0252206</td>\n",
       "                        <td id=\"T_4b2be8a0_2078_11ed_a5f0_0242ac120002row6_col6\" class=\"data row6 col6\" >1</td>\n",
       "                        <td id=\"T_4b2be8a0_2078_11ed_a5f0_0242ac120002row6_col7\" class=\"data row6 col7\" >0.126428</td>\n",
       "            </tr>\n",
       "            <tr>\n",
       "                        <th id=\"T_4b2be8a0_2078_11ed_a5f0_0242ac120002level0_row7\" class=\"row_heading level0 row7\" >no_show</th>\n",
       "                        <td id=\"T_4b2be8a0_2078_11ed_a5f0_0242ac120002row7_col0\" class=\"data row7 col0\" >-0.0603268</td>\n",
       "                        <td id=\"T_4b2be8a0_2078_11ed_a5f0_0242ac120002row7_col1\" class=\"data row7 col1\" >0.0291336</td>\n",
       "                        <td id=\"T_4b2be8a0_2078_11ed_a5f0_0242ac120002row7_col2\" class=\"data row7 col2\" >-0.0357035</td>\n",
       "                        <td id=\"T_4b2be8a0_2078_11ed_a5f0_0242ac120002row7_col3\" class=\"data row7 col3\" >-0.0151812</td>\n",
       "                        <td id=\"T_4b2be8a0_2078_11ed_a5f0_0242ac120002row7_col4\" class=\"data row7 col4\" >-0.00019685</td>\n",
       "                        <td id=\"T_4b2be8a0_2078_11ed_a5f0_0242ac120002row7_col5\" class=\"data row7 col5\" >-0.00728141</td>\n",
       "                        <td id=\"T_4b2be8a0_2078_11ed_a5f0_0242ac120002row7_col6\" class=\"data row7 col6\" >0.126428</td>\n",
       "                        <td id=\"T_4b2be8a0_2078_11ed_a5f0_0242ac120002row7_col7\" class=\"data row7 col7\" >1</td>\n",
       "            </tr>\n",
       "    </tbody></table>"
      ],
      "text/plain": [
       "<pandas.io.formats.style.Styler at 0x7f90e7862d68>"
      ]
     },
     "execution_count": 28,
     "metadata": {},
     "output_type": "execute_result"
    }
   ],
   "source": [
    "df_app.corr().style.background_gradient(cmap='OrRd')"
   ]
  },
  {
   "cell_type": "markdown",
   "metadata": {},
   "source": [
    "The correlation table above shows high correlation between hypertension and age, diabetes and hypertension and diabetes and age.\n",
    "I am going to plot a scatter plot to visually show the correlation between these datasets"
   ]
  },
  {
   "cell_type": "code",
   "execution_count": 29,
   "metadata": {},
   "outputs": [
    {
     "data": {
      "image/png": "[encoded data removed]",
      "text/plain": [
       "<matplotlib.figure.Figure at 0x7f90e6316c50>"
      ]
     },
     "metadata": {
      "needs_background": "light"
     },
     "output_type": "display_data"
    }
   ],
   "source": [
    "# From the table above, its evident that there are more people with hypertension among older patients from 0.5 as suggested above.\n",
    "hyper_mean = df_app['hypertension'].groupby(df_app['age']).mean()\n",
    "ages = df_app.age.unique()\n",
    "sns.regplot(x=ages, y=hyper_mean)\n",
    "plt.xlabel(\"age\")\n",
    "plt.title('Correlation between hypertension and age among patients');"
   ]
  },
  {
   "cell_type": "code",
   "execution_count": 30,
   "metadata": {},
   "outputs": [
    {
     "data": {
      "image/png": "[encoded data removed]",
      "text/plain": [
       "<matplotlib.figure.Figure at 0x7f90e6388ba8>"
      ]
     },
     "metadata": {
      "needs_background": "light"
     },
     "output_type": "display_data"
    }
   ],
   "source": [
    "# From the correlation table above, there is a correlation between the age of a patient and diabetes\n",
    "dia_mean = df_app[\"diabetes\"].groupby(df_app[\"age\"]).mean()\n",
    "ages = df_app[\"age\"].unique()\n",
    "sns.regplot(x=ages, y=dia_mean)\n",
    "plt.xlabel(\"age\")\n",
    "plt.title('Correlation between diabetes and age among patients');"
   ]
  },
  {
   "cell_type": "markdown",
   "metadata": {},
   "source": [
    "There is a problem (outlier) with our plot. And this outlier is caused by the appointment of an older diabetic patient. I will resolve this by plotting it again and cutting out that outlier from our plot."
   ]
  },
  {
   "cell_type": "code",
   "execution_count": 31,
   "metadata": {},
   "outputs": [
    {
     "data": {
      "image/png": "[encoded data removed]",
      "text/plain": [
       "<matplotlib.figure.Figure at 0x7f90dd7466a0>"
      ]
     },
     "metadata": {
      "needs_background": "light"
     },
     "output_type": "display_data"
    }
   ],
   "source": [
    "dia_mean = df_app[\"diabetes\"].groupby(df_app[\"age\"]).mean()\n",
    "ages = df_app[\"age\"].unique()\n",
    "sns.regplot(x=ages, y=dia_mean)\n",
    "plt.xlabel(\"age\")\n",
    "plt.title('Correlation between diabetes and age among patients')\n",
    "plt.ylim(0,0.4)\n",
    "plt.show()"
   ]
  },
  {
   "cell_type": "code",
   "execution_count": 32,
   "metadata": {},
   "outputs": [],
   "source": [
    "def count_plot(df_appdata, xdata, fxlabel, fylabel, ftitle, fcolor=None, fpalette=None):\n",
    "    f = sns.countplot(data = df_appdata, x = xdata, color = fcolor, palette = fpalette)\n",
    "    plt.title(ftitle)\n",
    "    plt.xlabel(fxlabel)\n",
    "    plt.ylabel(fylabel)\n",
    "    return f"
   ]
  },
  {
   "cell_type": "code",
   "execution_count": 33,
   "metadata": {},
   "outputs": [],
   "source": [
    "def bar_plot(xdata, ydata, fxlabel, fylabel, ftitle, ferrwidth=None, fpalette=None):\n",
    "    f = sns.barplot(x = xdata, y = ydata, errwidth = ferrwidth, palette = fpalette)\n",
    "    f.set(xlabel = fxlabel, ylabel = fylabel, title = ftitle)\n",
    "    return f"
   ]
  },
  {
   "cell_type": "markdown",
   "metadata": {},
   "source": [
    "Lets find the proportion of patients on scholarship"
   ]
  },
  {
   "cell_type": "code",
   "execution_count": 34,
   "metadata": {},
   "outputs": [
    {
     "data": {
      "image/png": "[encoded data removed]",
      "text/plain": [
       "<matplotlib.figure.Figure at 0x7f90e62cb390>"
      ]
     },
     "metadata": {
      "needs_background": "light"
     },
     "output_type": "display_data"
    }
   ],
   "source": [
    "# This plot shows that scholarship was majorly given to children and adults between the ages of 1-45 years old\n",
    "plt.figure(figsize=(32, 9))\n",
    "bar_plot(df_app.age, df_app.scholarship, 'Age', 'Scholarship rate', 'Scholarship rate by age of patients', 0)\n",
    "plt.show()"
   ]
  },
  {
   "cell_type": "markdown",
   "metadata": {},
   "source": [
    "### Research Question 1 (Are those on Scholarship likely to show up on Appointment date?)"
   ]
  },
  {
   "cell_type": "markdown",
   "metadata": {},
   "source": [
    "Amount of Appointments made by patients on scholarship"
   ]
  },
  {
   "cell_type": "code",
   "execution_count": 35,
   "metadata": {
    "scrolled": true
   },
   "outputs": [
    {
     "data": {
      "image/png": "[encoded data removed]",
      "text/plain": [
       "<matplotlib.figure.Figure at 0x7f90e7845f98>"
      ]
     },
     "metadata": {
      "needs_background": "light"
     },
     "output_type": "display_data"
    }
   ],
   "source": [
    "# From the plot it can be deduce that patients that are not on scholarship made quite a lot of appointments than those on scholarship\n",
    "plt.subplot(1, 2, 1)\n",
    "count_plot(df_app, 'scholarship', 'Scholarship', 'Count of Appointments', 'Amount of Appointments made by patients on Scholarship');"
   ]
  },
  {
   "cell_type": "markdown",
   "metadata": {},
   "source": [
    "Let's make a Subplot of no_show rate for those on scholarship"
   ]
  },
  {
   "cell_type": "code",
   "execution_count": 36,
   "metadata": {
    "scrolled": true
   },
   "outputs": [
    {
     "data": {
      "image/png": "[encoded data removed]",
      "text/plain": [
       "<matplotlib.figure.Figure at 0x7f90e6313278>"
      ]
     },
     "metadata": {
      "needs_background": "light"
     },
     "output_type": "display_data"
    }
   ],
   "source": [
    "# The appointment of patients on scholarship have a higher no show rate than those without scholarship\n",
    "plt.subplot(1, 2, 1)\n",
    "f1 = bar_plot(df_app['scholarship'], df_app['no_show'], 'Scholarship', 'No show rate', 'No show rate for patients on Scholarship', 0)"
   ]
  },
  {
   "cell_type": "markdown",
   "metadata": {},
   "source": [
    "### Research Question 2  (Are those being reached out by to SMS reminder more likely to show up on appointment date?)"
   ]
  },
  {
   "cell_type": "markdown",
   "metadata": {},
   "source": [
    "Amount of Appointments made by patients who were sent an SMS reminder"
   ]
  },
  {
   "cell_type": "code",
   "execution_count": 37,
   "metadata": {},
   "outputs": [
    {
     "data": {
      "image/png": "[encoded data removed]",
      "text/plain": [
       "<matplotlib.figure.Figure at 0x7f90e78f5160>"
      ]
     },
     "metadata": {
      "needs_background": "light"
     },
     "output_type": "display_data"
    }
   ],
   "source": [
    "# From the plot it can be deduce that patients that did not receive SMS reminder made quite a lot of appointments than those that received SMS reminder.\n",
    "# Although those that got SMS reminder made quite a large number of appointments\n",
    "# While 0 represents 'No SMS received', 1 represents 'SMS received'\n",
    "plt.subplot(1, 2, 1)\n",
    "count_plot(df_app, 'sms_received', 'SMS Received', 'Count of Appointments', 'Amount of Appointments made by patients that got SMS Reminder');"
   ]
  },
  {
   "cell_type": "markdown",
   "metadata": {},
   "source": [
    "Let's make a Subplot of no_show rate for those who received SMS reminder"
   ]
  },
  {
   "cell_type": "code",
   "execution_count": 38,
   "metadata": {
    "scrolled": true
   },
   "outputs": [
    {
     "data": {
      "image/png": "[encoded data removed]",
      "text/plain": [
       "<matplotlib.figure.Figure at 0x7f90dd6d05f8>"
      ]
     },
     "metadata": {
      "needs_background": "light"
     },
     "output_type": "display_data"
    }
   ],
   "source": [
    "# The appointment of patients that received SMS reminder have a higher no show rate than those that did not receive SMS reminder\n",
    "# While 0 represents 'No SMS received', 1 represents 'SMS received'\n",
    "plt.subplot(1, 2, 1)\n",
    "f2 = bar_plot(df_app['sms_received'], df_app['no_show'], 'SMS Received', 'No show rate', 'No show rate for patients that got SMS Reminder', 0)"
   ]
  },
  {
   "cell_type": "markdown",
   "metadata": {},
   "source": [
    "### Research Question 3  (What Gender class take their appointment date more seriously?)"
   ]
  },
  {
   "cell_type": "markdown",
   "metadata": {},
   "source": [
    "Amount of Appointments made by patients of both gender"
   ]
  },
  {
   "cell_type": "code",
   "execution_count": 39,
   "metadata": {},
   "outputs": [
    {
     "data": {
      "image/png": "[encoded data removed]",
      "text/plain": [
       "<matplotlib.figure.Figure at 0x7f90e79e2588>"
      ]
     },
     "metadata": {
      "needs_background": "light"
     },
     "output_type": "display_data"
    }
   ],
   "source": [
    "# From the plot it can be deduce that there are more Females scheduling for appointment than Male\n",
    "plt.subplot(1, 2, 1)\n",
    "count_plot(df_app, 'gender', 'Gender', 'Count of Appointments', 'Amount of Appointments made by patients of both Gender');"
   ]
  },
  {
   "cell_type": "markdown",
   "metadata": {},
   "source": [
    "Let's make a Subplot of no_show rate for patients of both gender"
   ]
  },
  {
   "cell_type": "code",
   "execution_count": 40,
   "metadata": {},
   "outputs": [
    {
     "data": {
      "image/png": "[encoded data removed]",
      "text/plain": [
       "<matplotlib.figure.Figure at 0x7f90dd696e80>"
      ]
     },
     "metadata": {
      "needs_background": "light"
     },
     "output_type": "display_data"
    }
   ],
   "source": [
    "# There is no much difference in the no show rate proportion of both gender\n",
    "plt.subplot(1, 2, 1)\n",
    "f3 = bar_plot(df_app['gender'], df_app['no_show'], 'Gender', 'No show rate', 'No show rate for patients of both Gender',0)"
   ]
  },
  {
   "cell_type": "markdown",
   "metadata": {},
   "source": [
    "<a id='conclusions'></a>\n",
    "## Conclusions\n",
    "> On these analysed data sets, the main findings for the given questions are as follows\n",
    "> #### Q1: Are those on Scholarship likely to show up on Appointment date?\n",
    "Appointment of patients with Scholarship have a higher No-Show rate compared to those without Scholarship and so are likely not to show up on appointment date.\n",
    "> #### Q2: Are those being reached out to by SMS reminder more likely to show up on appointment date?\n",
    "Appointment of patients with SMS reminder prior to their appointment have a higher No-Show rate than those without a reminder.\n",
    "> #### Q3: What Gender class take their appointment date more seriously?\n",
    "The male and the female gender class seem to have similar No-Show rate."
   ]
  },
  {
   "cell_type": "markdown",
   "metadata": {},
   "source": [
    "### Limitations"
   ]
  },
  {
   "cell_type": "markdown",
   "metadata": {},
   "source": [
    "> 1). The data was sufficient to prove findings, but i could not dive deep into exporing all patients with illness and their no show rate combined, and also patients with scholarship and SMS Recieved with their no show rate combined. This would have further justify or skew our analysis results.\n",
    "\n",
    "> 2). Further knowing the reasons for higher no show rate for those on scholarship and those that received SMS reminder could further justify our results. This could be attributed to the days of appointment which i could not analyse with coding."
   ]
  },
  {
   "cell_type": "code",
   "execution_count": 42,
   "metadata": {},
   "outputs": [
    {
     "data": {
      "text/plain": [
       "0"
      ]
     },
     "execution_count": 42,
     "metadata": {},
     "output_type": "execute_result"
    }
   ],
   "source": [
    "from subprocess import call\n",
    "call(['python', '-m', 'nbconvert', 'Investigate_a_Dataset.ipynb'])"
   ]
  }
 ],
 "metadata": {
  "kernelspec": {
   "display_name": "Python 3",
   "language": "python",
   "name": "python3"
  },
  "language_info": {
   "codemirror_mode": {
    "name": "ipython",
    "version": 3
   },
   "file_extension": ".py",
   "mimetype": "text/x-python",
   "name": "python",
   "nbconvert_exporter": "python",
   "pygments_lexer": "ipython3",
   "version": "3.6.3"
  }
 },
 "nbformat": 4,
 "nbformat_minor": 2
}
